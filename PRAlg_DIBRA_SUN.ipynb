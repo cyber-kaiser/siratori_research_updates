{
 "cells": [
  {
   "cell_type": "markdown",
   "metadata": {},
   "source": [
    "---\n",
    "# TP : Page Rank Algorithm     \n",
    "---\n",
    "*redige par Ergi DIBRA et Yuge SUN*"
   ]
  },
  {
   "cell_type": "markdown",
   "metadata": {},
   "source": [
    "## Question 1"
   ]
  },
  {
   "cell_type": "markdown",
   "metadata": {},
   "source": [
    "On fait initialiser la matrice $A_1$ qui correspond au graphe de l'exemple 1."
   ]
  },
  {
   "cell_type": "code",
   "execution_count": 80,
   "metadata": {},
   "outputs": [
    {
     "name": "stdout",
     "output_type": "stream",
     "text": [
      "ans =\n",
      "\n",
      "   0   0   0   0   0   0   0   0   0   0\n",
      "   1   0   0   1   0   0   0   0   0   0\n",
      "   0   1   0   0   0   0   0   0   0   0\n",
      "   0   1   1   0   0   0   0   0   0   0\n",
      "   1   0   0   0   0   1   0   0   0   0\n",
      "   0   0   0   0   1   0   0   0   0   0\n",
      "   0   0   0   1   0   1   0   0   1   0\n",
      "   0   0   0   0   0   0   1   0   1   0\n",
      "   0   0   0   0   0   0   0   1   0   0\n",
      "   0   0   1   0   0   0   0   0   0   0\n",
      "\n"
     ]
    }
   ],
   "source": [
    "graphics_toolkit(\"gnuplot\");\n",
    "warning('off','all');\n",
    "clear\n",
    "clc\n",
    "close all\n",
    "A=cell(3,1);\n",
    "A{1}=zeros(10);\n",
    "A{1}(2,[1,4])=1;\n",
    "A{1}(3,2)=1;\n",
    "A{1}(4,[2,3])=1;\n",
    "A{1}(5,[1,6])=1;\n",
    "A{1}(6,5)=1;\n",
    "A{1}(7,[4,6,9])=1;\n",
    "A{1}(8,[7,9])=1;\n",
    "A{1}(9,8)=1;\n",
    "A{1}(10,3)=1;\n",
    "A{1}"
   ]
  },
  {
   "cell_type": "markdown",
   "metadata": {},
   "source": [
    "On fait initialiser la matrice $A_2$ qui correspond au graphe de l'exemple 2."
   ]
  },
  {
   "cell_type": "code",
   "execution_count": 81,
   "metadata": {},
   "outputs": [
    {
     "name": "stdout",
     "output_type": "stream",
     "text": [
      "ans =\n",
      "\n",
      "   0   1   0   0   0   0   0   0   0   0\n",
      "   0   0   1   1   0   0   0   0   0   0\n",
      "   0   0   0   1   0   0   0   0   0   1\n",
      "   0   0   0   0   1   0   0   1   0   0\n",
      "   0   0   1   0   0   1   0   0   0   0\n",
      "   0   1   0   0   0   0   1   0   0   0\n",
      "   0   0   0   0   0   0   0   1   0   0\n",
      "   0   0   0   0   0   0   0   0   1   0\n",
      "   0   0   0   0   0   0   0   0   0   1\n",
      "   0   0   0   0   0   0   0   0   0   0\n",
      "\n"
     ]
    }
   ],
   "source": [
    "A{2}=zeros(10);\n",
    "A{2}(1,2)=1;\n",
    "A{2}(2,[3,4])=1;\n",
    "A{2}(3,[4,10])=1;\n",
    "A{2}(4,[5,8])=1;\n",
    "A{2}(5,[6,3])=1;\n",
    "A{2}(6,[2,7])=1;\n",
    "A{2}(7,8)=1;\n",
    "A{2}(8,9)=1;\n",
    "A{2}(9,10)=1;\n",
    "A{2} \n"
   ]
  },
  {
   "cell_type": "markdown",
   "metadata": {},
   "source": [
    "On fait initialiser la matrice $A_3$ qui correspond au graphe de l'exemple 3."
   ]
  },
  {
   "cell_type": "code",
   "execution_count": 82,
   "metadata": {},
   "outputs": [
    {
     "name": "stdout",
     "output_type": "stream",
     "text": [
      "ans =\n",
      "\n",
      "   0   0   0   0   0   0   0   0   0   0\n",
      "   1   0   0   0   0   0   0   0   0   0\n",
      "   0   1   0   0   0   0   0   0   0   0\n",
      "   0   1   1   0   0   0   0   0   0   0\n",
      "   0   0   0   0   0   1   0   0   0   0\n",
      "   0   0   0   0   1   0   0   0   0   0\n",
      "   0   0   0   0   0   0   0   0   1   0\n",
      "   0   0   0   0   0   0   1   0   1   0\n",
      "   0   0   0   0   0   0   0   1   0   0\n",
      "   0   0   1   0   0   0   0   0   0   0\n",
      "\n"
     ]
    }
   ],
   "source": [
    "%On cree la matrice d'adjacence de graphe de l'exemple 2\n",
    "A{3}=zeros(10);\n",
    "A{3}(2,1)=1;\n",
    "A{3}(3,2)=1;\n",
    "A{3}(4,[2,3])=1;\n",
    "A{3}(5,6)=1;\n",
    "A{3}(6,5)=1;\n",
    "A{3}(7,9)=1;\n",
    "A{3}(8,[7,9])=1;\n",
    "A{3}(9,8)=1;\n",
    "A{3}(10,3)=1;\n",
    "A{3}"
   ]
  },
  {
   "cell_type": "markdown",
   "metadata": {},
   "source": [
    "Afin de verifier la bonne saisie des matrices d'adjacence, on cree la fonction *graphl(A,coord,x)* qui fait dessiner le graphe d'une des trois matrices $A_1,A_2,A_3$ (le paramatre *x* determine laquelle des trois matrices sera prise comme parametre. On definit aussi nous memes les coordonees des noeuds dans les 3 cas. Les graphes seront sauvegardes sous le nom *graphes.pdf*."
   ]
  },
  {
   "cell_type": "code",
   "execution_count": 83,
   "metadata": {},
   "outputs": [
    {
     "data": {
      "image/png": "[encoded data removed]",
      "text/plain": [
       "<IPython.core.display.Image object>"
      ]
     },
     "metadata": {},
     "output_type": "display_data"
    }
   ],
   "source": [
    "%Ici on definie les coordonees des 3 graphes\n",
    "coord=cell(3,1);\n",
    "[coord{1},coord{2},coord{3}]=deal([3 3; 8 6; 17 10; 17 5; 8 1; 17 1; 19 3; 25 1; 25 6; 25 10],[3 6; 8 14; 14 17; 22 16; 27 13; 28 7; 22 2; 15 2; 9 2; 9 8],[3 7; 10 12; 18 17; 18 10; 10 3; 18 2; 24 7; 29 3; 29 12; 24 17]);\n",
    "%Ici on fait dessiner les 3 graphes dans une seule figure\n",
    "h=figure('PaperPositionMode', 'auto','visible','off');\n",
    "subplot(3,3,1);\n",
    "title('Graphe 1')\n",
    "graphpl(A,coord,1);\n",
    "subplot(3,3,2);\n",
    "title('Graphe 2')\n",
    "graphpl(A,coord,2);\n",
    "subplot(3,3,3);\n",
    "title('Graphe 3')\n",
    "graphpl(A,coord,3);\n",
    "print(h,'-dpdf','graphes.pdf'); #sauvegarde les graphes sous le fichier graphes.pdf"
   ]
  },
  {
   "cell_type": "markdown",
   "metadata": {},
   "source": [
    "Donc on a bien obtenu les graphes de l'enonce.\n",
    "## Question 2\n",
    "On introduit $N_j=\\sum\\limits_{k=1}^N A_{kj}$ qui correspond au nombre total de liens sortant de la page $j$. Ce nombre est en effet la somme sur la $j^{eme}$ colonne d'une matrice. Compte tenu de ce fait, on introduit $N_1,N_2,N_3$ les trois vecteurs contenant la somme par colonne de nos matrices $A_1,A_2,A_3$."
   ]
  },
  {
   "cell_type": "code",
   "execution_count": 84,
   "metadata": {},
   "outputs": [
    {
     "name": "stdout",
     "output_type": "stream",
     "text": [
      "ans =\n",
      "\n",
      "   2   2   2   2   1   2   1   1   2   0\n",
      "\n",
      "ans =\n",
      "\n",
      "   0   2   2   2   1   1   1   2   1   2\n",
      "\n",
      "ans =\n",
      "\n",
      "   1   2   2   0   1   1   1   1   2   0\n",
      "\n"
     ]
    }
   ],
   "source": [
    "[N,Q]=deal(cell(3,1));\n",
    "[N{1},N{2},N{3}]=deal(sum(A{1}),sum(A{2}),sum(A{3}));\n",
    "\n",
    "N{1}\n",
    "N{2}\n",
    "N{3}"
   ]
  },
  {
   "cell_type": "markdown",
   "metadata": {},
   "source": [
    "Ensuite on construit les matrices $Q_1,Q_2,Q_3$ suivant la regle dessous-mentionne (pour chaque matrice Q) :\n",
    "\n",
    "\n",
    "$$  \\begin{equation}\n",
    "    Q_{ij}=\n",
    "    \\begin{cases}\n",
    "      \\dfrac{A_{ij}}{N_{ij}}, & \\text{si}\\ N_j=1\\\\\n",
    "      0, & \\text{sinon}\n",
    "    \\end{cases}\n",
    "  \\end{equation}$$"
   ]
  },
  {
   "cell_type": "code",
   "execution_count": 85,
   "metadata": {},
   "outputs": [],
   "source": [
    "[Q{1},Q{2},Q{3}]=deal(zeros(10));\n",
    "\n",
    "for k = 1:3\n",
    "        for i = 1:10\n",
    "                for j = 1:10\n",
    "                        if (N{k}(j) > 0)\n",
    "                                Q{k}(i,j)=A{k}(i,j)/N{k}(j);\n",
    "                        else\n",
    "                                Q{k}(i,j)=0;\n",
    "                        endif\n",
    "                end\n",
    "        end\n",
    "end\n",
    "\n"
   ]
  },
  {
   "cell_type": "markdown",
   "metadata": {},
   "source": [
    "Donc on obtient:\n",
    "\n",
    "$Q_1$ :"
   ]
  },
  {
   "cell_type": "code",
   "execution_count": 86,
   "metadata": {},
   "outputs": [
    {
     "name": "stdout",
     "output_type": "stream",
     "text": [
      "ans =\n",
      "\n",
      " Columns 1 through 8:\n",
      "\n",
      "   0.00000   0.00000   0.00000   0.00000   0.00000   0.00000   0.00000   0.00000\n",
      "   0.50000   0.00000   0.00000   0.50000   0.00000   0.00000   0.00000   0.00000\n",
      "   0.00000   0.50000   0.00000   0.00000   0.00000   0.00000   0.00000   0.00000\n",
      "   0.00000   0.50000   0.50000   0.00000   0.00000   0.00000   0.00000   0.00000\n",
      "   0.50000   0.00000   0.00000   0.00000   0.00000   0.50000   0.00000   0.00000\n",
      "   0.00000   0.00000   0.00000   0.00000   1.00000   0.00000   0.00000   0.00000\n",
      "   0.00000   0.00000   0.00000   0.50000   0.00000   0.50000   0.00000   0.00000\n",
      "   0.00000   0.00000   0.00000   0.00000   0.00000   0.00000   1.00000   0.00000\n",
      "   0.00000   0.00000   0.00000   0.00000   0.00000   0.00000   0.00000   1.00000\n",
      "   0.00000   0.00000   0.50000   0.00000   0.00000   0.00000   0.00000   0.00000\n",
      "\n",
      " Columns 9 and 10:\n",
      "\n",
      "   0.00000   0.00000\n",
      "   0.00000   0.00000\n",
      "   0.00000   0.00000\n",
      "   0.00000   0.00000\n",
      "   0.00000   0.00000\n",
      "   0.00000   0.00000\n",
      "   0.50000   0.00000\n",
      "   0.50000   0.00000\n",
      "   0.00000   0.00000\n",
      "   0.00000   0.00000\n",
      "\n"
     ]
    }
   ],
   "source": [
    "Q{1}"
   ]
  },
  {
   "cell_type": "markdown",
   "metadata": {},
   "source": [
    "$Q_2$ :"
   ]
  },
  {
   "cell_type": "code",
   "execution_count": 87,
   "metadata": {},
   "outputs": [
    {
     "name": "stdout",
     "output_type": "stream",
     "text": [
      "ans =\n",
      "\n",
      " Columns 1 through 8:\n",
      "\n",
      "   0.00000   0.50000   0.00000   0.00000   0.00000   0.00000   0.00000   0.00000\n",
      "   0.00000   0.00000   0.50000   0.50000   0.00000   0.00000   0.00000   0.00000\n",
      "   0.00000   0.00000   0.00000   0.50000   0.00000   0.00000   0.00000   0.00000\n",
      "   0.00000   0.00000   0.00000   0.00000   1.00000   0.00000   0.00000   0.50000\n",
      "   0.00000   0.00000   0.50000   0.00000   0.00000   1.00000   0.00000   0.00000\n",
      "   0.00000   0.50000   0.00000   0.00000   0.00000   0.00000   1.00000   0.00000\n",
      "   0.00000   0.00000   0.00000   0.00000   0.00000   0.00000   0.00000   0.50000\n",
      "   0.00000   0.00000   0.00000   0.00000   0.00000   0.00000   0.00000   0.00000\n",
      "   0.00000   0.00000   0.00000   0.00000   0.00000   0.00000   0.00000   0.00000\n",
      "   0.00000   0.00000   0.00000   0.00000   0.00000   0.00000   0.00000   0.00000\n",
      "\n",
      " Columns 9 and 10:\n",
      "\n",
      "   0.00000   0.00000\n",
      "   0.00000   0.00000\n",
      "   0.00000   0.50000\n",
      "   0.00000   0.00000\n",
      "   0.00000   0.00000\n",
      "   0.00000   0.00000\n",
      "   0.00000   0.00000\n",
      "   1.00000   0.00000\n",
      "   0.00000   0.50000\n",
      "   0.00000   0.00000\n",
      "\n"
     ]
    }
   ],
   "source": [
    "Q{2}"
   ]
  },
  {
   "cell_type": "markdown",
   "metadata": {},
   "source": [
    "$Q_3$"
   ]
  },
  {
   "cell_type": "code",
   "execution_count": 88,
   "metadata": {},
   "outputs": [
    {
     "name": "stdout",
     "output_type": "stream",
     "text": [
      "ans =\n",
      "\n",
      " Columns 1 through 8:\n",
      "\n",
      "   0.00000   0.00000   0.00000   0.00000   0.00000   0.00000   0.00000   0.00000\n",
      "   1.00000   0.00000   0.00000   0.00000   0.00000   0.00000   0.00000   0.00000\n",
      "   0.00000   0.50000   0.00000   0.00000   0.00000   0.00000   0.00000   0.00000\n",
      "   0.00000   0.50000   0.50000   0.00000   0.00000   0.00000   0.00000   0.00000\n",
      "   0.00000   0.00000   0.00000   0.00000   0.00000   1.00000   0.00000   0.00000\n",
      "   0.00000   0.00000   0.00000   0.00000   1.00000   0.00000   0.00000   0.00000\n",
      "   0.00000   0.00000   0.00000   0.00000   0.00000   0.00000   0.00000   0.00000\n",
      "   0.00000   0.00000   0.00000   0.00000   0.00000   0.00000   1.00000   0.00000\n",
      "   0.00000   0.00000   0.00000   0.00000   0.00000   0.00000   0.00000   1.00000\n",
      "   0.00000   0.00000   0.50000   0.00000   0.00000   0.00000   0.00000   0.00000\n",
      "\n",
      " Columns 9 and 10:\n",
      "\n",
      "   0.00000   0.00000\n",
      "   0.00000   0.00000\n",
      "   0.00000   0.00000\n",
      "   0.00000   0.00000\n",
      "   0.00000   0.00000\n",
      "   0.00000   0.00000\n",
      "   0.50000   0.00000\n",
      "   0.50000   0.00000\n",
      "   0.00000   0.00000\n",
      "   0.00000   0.00000\n",
      "\n"
     ]
    }
   ],
   "source": [
    "Q{3}"
   ]
  },
  {
   "cell_type": "markdown",
   "metadata": {},
   "source": [
    "On peut donc introduire le vecteur $r\\in ℝ^n$ dont la $i^{eme}$ composante chiffre la pertinence de la page $i$. Ce vecteur verifie :\n",
    "\n",
    "$$r_i = \\sum\\limits_{j=1}^N Q_{ij}r_{j}$$\n",
    "\n",
    "Ainsi cela revient a ressoudre :\n",
    "$$Qr=r$$\n",
    "\n",
    "\n",
    "Donc on a ramene le probleme du classement des pages web a la recherche d'un vecteur propre pour une enorme matrice associe a la valeur propre $1$.\n"
   ]
  },
  {
   "cell_type": "markdown",
   "metadata": {},
   "source": [
    "## Question 3"
   ]
  },
  {
   "cell_type": "markdown",
   "metadata": {},
   "source": [
    "Verifions maintenant ques pour les matrices $Q_1,Q_3$ on admet $1$ comme valeur propre et montrons que cela n'est pas le cas pour $Q_2$."
   ]
  },
  {
   "cell_type": "code",
   "execution_count": 89,
   "metadata": {},
   "outputs": [
    {
     "name": "stdout",
     "output_type": "stream",
     "text": [
      "ans =\n",
      "\n",
      "   0.00000 + 0.00000i\n",
      "  -0.50000 + 0.50000i\n",
      "  -0.50000 - 0.50000i\n",
      "  -0.33118 + 0.28114i\n",
      "  -0.33118 - 0.28114i\n",
      "   1.00000 + 0.00000i\n",
      "   0.66236 + 0.00000i\n",
      "   0.70711 + 0.00000i\n",
      "  -0.70711 + 0.00000i\n",
      "   0.00000 + 0.00000i\n",
      "\n",
      "ans =\n",
      "\n",
      "   0.00000 + 0.00000i\n",
      "   0.88465 + 0.00000i\n",
      "  -0.00000 + 0.70711i\n",
      "  -0.00000 - 0.70711i\n",
      "  -0.44232 + 0.29487i\n",
      "  -0.44232 - 0.29487i\n",
      "   0.00000 + 0.00000i\n",
      "   0.00000 + 0.00000i\n",
      "   0.00000 + 0.00000i\n",
      "   0.00000 + 0.00000i\n",
      "\n",
      "ans =\n",
      "\n",
      "   1.00000 + 0.00000i\n",
      "  -1.00000 + 0.00000i\n",
      "   1.00000 + 0.00000i\n",
      "  -0.50000 + 0.50000i\n",
      "  -0.50000 - 0.50000i\n",
      "   0.00000 + 0.00000i\n",
      "   0.00000 + 0.00000i\n",
      "   0.00000 + 0.00000i\n",
      "   0.00000 + 0.00000i\n",
      "   0.00000 + 0.00000i\n",
      "\n"
     ]
    }
   ],
   "source": [
    "eig(Q{1}) #Les valeurs propres de Q1\n",
    "eig(Q{2}) #Les valeurs propres de Q2\n",
    "eig(Q{3}) #Les valeurs propres de Q3"
   ]
  },
  {
   "cell_type": "markdown",
   "metadata": {},
   "source": [
    "On voit bien que le vecteur des valeurs propres de $Q_1,Q_3$ contient $1$ comme valeur propre et que $Q_2$ ne l'admet pas."
   ]
  },
  {
   "cell_type": "markdown",
   "metadata": {},
   "source": [
    "Ainsi il peut arriver que la matrice Q n'admette pas la valeur propre $1$. Pour contourner ce probleme on va modifier $Q$ notamment pour intervenir sur ses colonnes nulles. Pour ce faire on introduit $P \\in M_N(ℝ)$ definie par:\n",
    "\n",
    "$$P = Q + \\dfrac{1}{N}ed^T$$\n",
    "\n",
    "avec $e \\in ℝ^n$ le vecteur unitaire $e=(1,\\cdots,1)^T$ et $d \\in ℝ^N$ le vecteur dont la $j^{eme}$ composante est donne par :\n",
    "\n",
    "$$  \\begin{equation}\n",
    "    d_{j}=\n",
    "    \\begin{cases}\n",
    "      1, & \\text{si}\\ N_j=0\\\\\n",
    "      0, & \\text{sinon}\n",
    "    \\end{cases}\n",
    "  \\end{equation}$$\n",
    "  \n",
    "Donc on construit $e$ et $d_1^T,d_2^T,d_3^T$ (pour les trois exemples) :"
   ]
  },
  {
   "cell_type": "code",
   "execution_count": 90,
   "metadata": {},
   "outputs": [],
   "source": [
    "e = ones(10,1);\n",
    "d=cell(3,1);\n",
    "[d{1},d{2},d{3}]=deal(zeros(1,10));\n",
    "for k = 1:3\n",
    "    for j = 1:10\n",
    "        if (!N{k}(j))\n",
    "            d{k}(j)=1;\n",
    "        end\n",
    "    end\n",
    "end"
   ]
  },
  {
   "cell_type": "markdown",
   "metadata": {},
   "source": [
    "## Question 4\n",
    "\n",
    "On construit maintenant les matrices $P_i$ pour $i=1\\ldots3$."
   ]
  },
  {
   "cell_type": "code",
   "execution_count": 91,
   "metadata": {},
   "outputs": [],
   "source": [
    "P=cell(3,1);\n",
    "for k = 1:3\n",
    "    P{k}=Q{k}+(1/10)*e*d{k};\n",
    "end"
   ]
  },
  {
   "cell_type": "markdown",
   "metadata": {},
   "source": [
    "On verifie ensuite qu'elles admettent $1$ comme valeur propre."
   ]
  },
  {
   "cell_type": "code",
   "execution_count": 92,
   "metadata": {},
   "outputs": [
    {
     "name": "stdout",
     "output_type": "stream",
     "text": [
      "ans =\n",
      "\n",
      "   1.00000 + 0.00000i\n",
      "   0.73709 + 0.00000i\n",
      "   0.70711 + 0.00000i\n",
      "  -0.70711 + 0.00000i\n",
      "  -0.50000 + 0.50000i\n",
      "  -0.50000 - 0.50000i\n",
      "  -0.31854 + 0.26099i\n",
      "  -0.31854 - 0.26099i\n",
      "   0.00000 + 0.00000i\n",
      "  -0.00000 + 0.00000i\n",
      "\n",
      "ans =\n",
      "\n",
      "   1.00000 + 0.00000i\n",
      "   0.36581 + 0.36047i\n",
      "   0.36581 - 0.36047i\n",
      "   0.02597 + 0.70268i\n",
      "   0.02597 - 0.70268i\n",
      "  -0.20846 + 0.45514i\n",
      "  -0.20846 - 0.45514i\n",
      "  -0.45895 + 0.25207i\n",
      "  -0.45895 - 0.25207i\n",
      "  -0.34875 + 0.00000i\n",
      "\n",
      "ans =\n",
      "\n",
      "  -0.50000 + 0.50000i\n",
      "  -0.50000 - 0.50000i\n",
      "  -0.07014 + 0.41632i\n",
      "  -0.07014 - 0.41632i\n",
      "  -0.38616 + 0.00000i\n",
      "   0.00000 + 0.00000i\n",
      "   0.72643 + 0.00000i\n",
      "   1.00000 + 0.00000i\n",
      "  -1.00000 + 0.00000i\n",
      "   1.00000 + 0.00000i\n",
      "\n"
     ]
    }
   ],
   "source": [
    "eig(P{1})\n",
    "eig(P{2})\n",
    "eig(P{3})"
   ]
  },
  {
   "cell_type": "markdown",
   "metadata": {},
   "source": [
    "On remarque que $1$ est bien une valeur propre des trois nouvelles matrices et en effet elle a une multiplicite $2$ pour la matrice $Q_3$. Afin de eviter cela, on va modifier encore la matrice en introduisant la matrice :\n",
    "\n",
    "$$A_\\alpha = \\alpha P + (1-\\alpha)\\dfrac{1}{N}ee^T$$"
   ]
  },
  {
   "cell_type": "markdown",
   "metadata": {},
   "source": [
    "## Question 5\n",
    "\n",
    "On construit donc $A_{\\alpha i}$ pour $i=1\\ldots3$ et $\\alpha = 0.1$."
   ]
  },
  {
   "cell_type": "code",
   "execution_count": 93,
   "metadata": {},
   "outputs": [],
   "source": [
    "alpha=0.1;\n",
    "Aalpha1=cell(3,1);\n",
    "for k = 1:3\n",
    "    Aalpha1{k} = alpha*P{k} + (1-alpha)*(1/10)*e*transpose(e);\n",
    "end"
   ]
  },
  {
   "cell_type": "markdown",
   "metadata": {},
   "source": [
    "On construit encore $A_{\\alpha i}$ pour $i=1\\ldots3$ et $\\alpha = 0.5$."
   ]
  },
  {
   "cell_type": "code",
   "execution_count": 94,
   "metadata": {},
   "outputs": [],
   "source": [
    "alpha=0.5;\n",
    "Aalpha5=cell(3,1);\n",
    "for k = 1:3\n",
    "    Aalpha5{k} = alpha*P{k} + (1-alpha)*(1/10)*e*transpose(e);\n",
    "end"
   ]
  },
  {
   "cell_type": "markdown",
   "metadata": {},
   "source": [
    "Ensuite on determine les modules des valeurs propres (des matrices dessus-mentionnes)  et on les classe par ordre decroissant (on sauvegarde ces valeurs dans un vecteur $a$ pour les matrices correspondant a $\\alpha = 0.1$ et dans $b$ pour les matrices correspondant a $\\alpha = 0.5$  :"
   ]
  },
  {
   "cell_type": "code",
   "execution_count": 95,
   "metadata": {},
   "outputs": [],
   "source": [
    "a=cell(3,1);\n",
    "b=cell(3,1);\n",
    "for k = 1:3\n",
    "    a{k} = sort(abs(eig(Aalpha1{k})),'descend');\n",
    "    b{k} = sort(abs(eig(Aalpha5{k})),'descend');\n",
    "end"
   ]
  },
  {
   "cell_type": "markdown",
   "metadata": {},
   "source": [
    "Au final l'algorithme revient a determiner pour $0<\\alpha<1$, le vecteur $r_\\alpha \\in ℝ^n$ qui verifie :\n",
    "\n",
    "$$A_\\alpha r_\\alpha = r_\\alpha$$\n",
    "\n",
    "i.e $r_\\alpha$ le vecteur propre associe a la valeur propre $1$ de la matrice $A_\\alpha$."
   ]
  },
  {
   "cell_type": "markdown",
   "metadata": {},
   "source": [
    "## Question 6"
   ]
  },
  {
   "cell_type": "markdown",
   "metadata": {},
   "source": [
    "On ecrit l'algorithme de la methode de puissance et on l'applique au cas $\\alpha = 0.1$. (Voire *puiss.m*)."
   ]
  },
  {
   "cell_type": "code",
   "execution_count": 112,
   "metadata": {},
   "outputs": [
    {
     "name": "stdout",
     "output_type": "stream",
     "text": [
      "r_trouve =\n",
      "\n",
      "   0.090958\n",
      "   0.100545\n",
      "   0.095985\n",
      "   0.100784\n",
      "   0.100556\n",
      "   0.101013\n",
      "   0.106129\n",
      "   0.106652\n",
      "   0.101623\n",
      "   0.095757\n",
      "\n",
      "n_iter =  10000\n"
     ]
    }
   ],
   "source": [
    "tst = rand(10,1);\n",
    "tst = tst/norm(tst);\n",
    "\n",
    "[r_trouve,n_iter] = puiss(tst,Aalpha1,1,a);\n",
    "r_trouve\n",
    "n_iter"
   ]
  },
  {
   "cell_type": "markdown",
   "metadata": {},
   "source": [
    "Pour ettre sur d'avoir trouve le bon vecteur on multiplie la matrice par le vecteur. En effet on voit qu'on a trouve le bon vecteur pour la valeur propre $1$."
   ]
  },
  {
   "cell_type": "code",
   "execution_count": 114,
   "metadata": {},
   "outputs": [
    {
     "name": "stdout",
     "output_type": "stream",
     "text": [
      "ans =\n",
      "\n",
      "   0.090958\n",
      "   0.100545\n",
      "   0.095985\n",
      "   0.100784\n",
      "   0.100556\n",
      "   0.101013\n",
      "   0.106129\n",
      "   0.106652\n",
      "   0.101623\n",
      "   0.095757\n",
      "\n"
     ]
    }
   ],
   "source": [
    "Aalpha1{1}*r_trouve"
   ]
  },
  {
   "cell_type": "code",
   "execution_count": null,
   "metadata": {},
   "outputs": [],
   "source": [
    "D"
   ]
  },
  {
   "cell_type": "code",
   "execution_count": null,
   "metadata": {},
   "outputs": [],
   "source": []
  }
 ],
 "metadata": {
  "kernelspec": {
   "display_name": "Octave",
   "language": "octave",
   "name": "octave"
  },
  "language_info": {
   "file_extension": ".m",
   "help_links": [
    {
     "text": "GNU Octave",
     "url": "https://www.gnu.org/software/octave/support.html"
    },
    {
     "text": "Octave Kernel",
     "url": "https://github.com/Calysto/octave_kernel"
    },
    {
     "text": "MetaKernel Magics",
     "url": "https://github.com/calysto/metakernel/blob/master/metakernel/magics/README.md"
    }
   ],
   "mimetype": "text/x-octave",
   "name": "octave",
   "version": "4.2.1"
  }
 },
 "nbformat": 4,
 "nbformat_minor": 2
}
